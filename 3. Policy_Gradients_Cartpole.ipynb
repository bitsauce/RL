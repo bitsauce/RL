{
 "cells": [
  {
   "cell_type": "code",
   "execution_count": 1,
   "metadata": {},
   "outputs": [
    {
     "name": "stderr",
     "output_type": "stream",
     "text": [
      "Using TensorFlow backend.\n"
     ]
    }
   ],
   "source": [
    "import gym\n",
    "import numpy as np\n",
    "import keras\n",
    "from keras.models import Model\n",
    "from keras.layers import Input, Dense, Lambda\n",
    "from keras.optimizers import Adam\n",
    "import keras.backend as K\n",
    "from IPython.display import clear_output"
   ]
  },
  {
   "cell_type": "code",
   "execution_count": 2,
   "metadata": {},
   "outputs": [
    {
     "name": "stdout",
     "output_type": "stream",
     "text": [
      "Action space: 2\n",
      "State space: (4,)\n"
     ]
    }
   ],
   "source": [
    "env = gym.make(\"CartPole-v0\")\n",
    "action_space = env.action_space.n\n",
    "state_space = env.observation_space.shape\n",
    "print(\"Action space:\", action_space)\n",
    "print(\"State space:\", state_space)"
   ]
  },
  {
   "cell_type": "code",
   "execution_count": 3,
   "metadata": {},
   "outputs": [],
   "source": [
    "num_episodes    = 2000\n",
    "learning_rate   = 0.001\n",
    "discount_factor = 0.95"
   ]
  },
  {
   "cell_type": "code",
   "execution_count": 4,
   "metadata": {},
   "outputs": [
    {
     "name": "stdout",
     "output_type": "stream",
     "text": [
      "_________________________________________________________________\n",
      "Layer (type)                 Output Shape              Param #   \n",
      "=================================================================\n",
      "input_1 (InputLayer)         (None, 4)                 0         \n",
      "_________________________________________________________________\n",
      "dense_1 (Dense)              (None, 16)                80        \n",
      "_________________________________________________________________\n",
      "dense_2 (Dense)              (None, 16)                272       \n",
      "_________________________________________________________________\n",
      "dense_3 (Dense)              (None, 2)                 34        \n",
      "=================================================================\n",
      "Total params: 386\n",
      "Trainable params: 386\n",
      "Non-trainable params: 0\n",
      "_________________________________________________________________\n"
     ]
    }
   ],
   "source": [
    "input_states = Input(shape=state_space)\n",
    "x = Dense(16, activation=\"relu\")(input_states)\n",
    "x = Dense(16, activation=\"relu\")(x)\n",
    "action_prob = Dense(action_space, activation=\"softmax\")(x)\n",
    "model = Model(input_states, action_prob)\n",
    "model.summary()"
   ]
  },
  {
   "cell_type": "code",
   "execution_count": 5,
   "metadata": {},
   "outputs": [],
   "source": [
    "# Policy gradient train function\n",
    "def build_train_fn(model):\n",
    "    action_prob_placeholder = model.output\n",
    "    action_onehot_placeholder = K.placeholder(shape=(None, action_space))\n",
    "    discount_reward_placeholder = K.placeholder(shape=(None,))\n",
    "    \n",
    "    log_action_prob = K.log(K.sum(action_prob_placeholder * action_onehot_placeholder, axis=1))\n",
    "    loss = K.mean(discount_reward_placeholder * -log_action_prob)\n",
    "    \n",
    "    adam = Adam()\n",
    "    updates = adam.get_updates(params=model.trainable_weights, loss=loss)\n",
    "    return K.function(inputs=[model.input, action_onehot_placeholder, discount_reward_placeholder],\n",
    "                      outputs=[],\n",
    "                      updates=updates)\n",
    "train_fn = build_train_fn(model)"
   ]
  },
  {
   "cell_type": "code",
   "execution_count": 6,
   "metadata": {},
   "outputs": [],
   "source": [
    "def discount_rewards(r, gamma=0.99):\n",
    "    \"\"\" Take 1D float array of rewards and compute discounted reward \"\"\"\n",
    "    discounted_r = np.zeros_like(r)\n",
    "    running_add = 0\n",
    "    for t in reversed(range(0, len(r))):\n",
    "        running_add = running_add * gamma + r[t]\n",
    "        discounted_r[t] = running_add\n",
    "    return discounted_r"
   ]
  },
  {
   "cell_type": "code",
   "execution_count": 8,
   "metadata": {},
   "outputs": [
    {
     "name": "stdout",
     "output_type": "stream",
     "text": [
      "-- Episode 2000/2000 --\n",
      "Total Reward: 200.0\n",
      "Avg Episode Reward: 158.2121060530265\n"
     ]
    }
   ],
   "source": [
    "rewards_per_episode = []\n",
    "episode_rewards = float(\"nan\")\n",
    "for episode in range(num_episodes):\n",
    "    clear_output(wait=True)\n",
    "    print(\"-- Episode {}/{} --\".format(episode+1, num_episodes))\n",
    "    print(\"Total Reward:\", np.sum(episode_rewards))\n",
    "    print(\"Avg Episode Reward:\", np.mean(rewards_per_episode))\n",
    "    \n",
    "    state = env.reset()\n",
    "    episode_rewards = []\n",
    "    states = []\n",
    "    actions = []\n",
    "    done = False\n",
    "    while not done:\n",
    "        #env.render()\n",
    "        \n",
    "        # Predict action given state pi(a_t|s_t)\n",
    "        action_prob = np.squeeze(model.predict_on_batch(np.expand_dims(state, axis=0)))\n",
    "        action = np.random.choice(np.arange(0, action_space), p=action_prob)\n",
    "        action_one_hot = np.zeros((2,))\n",
    "        action_one_hot[action] = 1.0\n",
    "        \n",
    "        # Take best action\n",
    "        new_state, reward, done, info = env.step(action)\n",
    "        \n",
    "        states.append(state)\n",
    "        actions.append(action_one_hot)\n",
    "        episode_rewards.append(reward)\n",
    "        state = new_state\n",
    "        \n",
    "        # If simulation is done\n",
    "        if done:\n",
    "            # Calculate discounted rewards\n",
    "            discounted_rewards = discount_rewards(episode_rewards)\n",
    "            \n",
    "            # Normalize\n",
    "            mean = np.mean(discounted_rewards)\n",
    "            std  = np.std(discounted_rewards)\n",
    "            discounted_rewards = (discounted_rewards - mean) / std\n",
    "            \n",
    "            # Train on episode\n",
    "            train_fn([np.stack(states, axis=0), np.stack(actions, axis=0), discounted_rewards])\n",
    "    rewards_per_episode.append(np.sum(episode_rewards))"
   ]
  },
  {
   "cell_type": "code",
   "execution_count": 13,
   "metadata": {},
   "outputs": [
    {
     "name": "stdout",
     "output_type": "stream",
     "text": [
      "Avg Episode Reward: 193.2\n"
     ]
    }
   ],
   "source": [
    "rewards_per_episode = []\n",
    "episode_rewards = float(\"nan\")\n",
    "for episode in range(10):\n",
    "    state = env.reset()\n",
    "    done = False\n",
    "    episode_reward = 0\n",
    "    while not done:\n",
    "        env.render()\n",
    "        \n",
    "        # Predict action given state pi(a_t|s_t)\n",
    "        action_prob = np.squeeze(model.predict_on_batch(np.expand_dims(state, axis=0)))\n",
    "        action = np.random.choice(np.arange(0, action_space), p=action_prob)\n",
    "        action_one_hot = np.zeros((2,))\n",
    "        action_one_hot[action] = 1.0\n",
    "        \n",
    "        # Take best action\n",
    "        state, reward, done, _ = env.step(action)\n",
    "        episode_reward += reward\n",
    "    rewards_per_episode.append(episode_reward)\n",
    "print(\"Avg Episode Reward:\", np.mean(rewards_per_episode))"
   ]
  }
 ],
 "metadata": {
  "kernelspec": {
   "display_name": "Python 3",
   "language": "python",
   "name": "python3"
  },
  "language_info": {
   "codemirror_mode": {
    "name": "ipython",
    "version": 3
   },
   "file_extension": ".py",
   "mimetype": "text/x-python",
   "name": "python",
   "nbconvert_exporter": "python",
   "pygments_lexer": "ipython3",
   "version": "3.6.6"
  }
 },
 "nbformat": 4,
 "nbformat_minor": 2
}
