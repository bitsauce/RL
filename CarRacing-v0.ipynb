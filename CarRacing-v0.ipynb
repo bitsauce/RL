{
 "cells": [
  {
   "cell_type": "code",
   "execution_count": 1,
   "metadata": {
    "collapsed": false
   },
   "outputs": [
    {
     "name": "stderr",
     "output_type": "stream",
     "text": [
      "c:\\anaconda3\\lib\\site-packages\\h5py\\__init__.py:36: FutureWarning: Conversion of the second argument of issubdtype from `float` to `np.floating` is deprecated. In future, it will be treated as `np.float64 == np.dtype(float).type`.\n",
      "  from ._conv import register_converters as _register_converters\n"
     ]
    }
   ],
   "source": [
    "%matplotlib inline\n",
    "import matplotlib.pyplot as plt\n",
    "import gym\n",
    "import os\n",
    "import time\n",
    "import random\n",
    "import numpy as np\n",
    "from skimage import transform\n",
    "from IPython.display import display, clear_output\n",
    "import tensorflow as tf"
   ]
  },
  {
   "cell_type": "code",
   "execution_count": 2,
   "metadata": {
    "collapsed": true
   },
   "outputs": [],
   "source": [
    "from utils import FrameStack, Scheduler, calculate_expected_return\n",
    "from a2c import GaussianA2C\n",
    "from vec_env.subproc_vec_env import SubprocVecEnv\n",
    "\n",
    "lr_scheduler = Scheduler(initial_value=1e-4, interval=10, decay_factor=0.95)"
   ]
  },
  {
   "cell_type": "code",
   "execution_count": 3,
   "metadata": {
    "collapsed": false
   },
   "outputs": [],
   "source": [
    "class Env():\n",
    "    def __init__(self):\n",
    "        self.env = gym.make(\"CarRacing-v0\")\n",
    "        self.action_space = self.env.action_space.shape[0]\n",
    "        self.state_space  = (*self.env.observation_space.shape[0:2], 4)\n",
    "        \n",
    "    def reset(self):\n",
    "        initial_frame = self.env.reset()\n",
    "        def preprocess_frame(frame):\n",
    "            frame = np.dot(frame[..., 0:3], [0.299, 0.587, 0.114])\n",
    "            frame = frame / 255.0\n",
    "            return frame\n",
    "        self.frame_stack = FrameStack(initial_frame, preprocess_fn=preprocess_frame)\n",
    "        self.done = False\n",
    "        \n",
    "    def step(self, action):\n",
    "        if self.done:\n",
    "            return 0\n",
    "        frame, reward, done, info = self.env.step(action)\n",
    "        self.frame_stack.add_frame(frame)\n",
    "        self.done = done\n",
    "        self.env.render()\n",
    "        return reward\n",
    "    \n",
    "    def is_done(self):\n",
    "        return self.done\n",
    "    \n",
    "    def get_state(self):\n",
    "        return self.frame_stack.get_state()\n",
    "        \n",
    "def preprocess_frame(frame):\n",
    "    frame = np.dot(frame[..., 0:3], [0.299, 0.587, 0.114])\n",
    "    frame = frame / 255.0\n",
    "    return frame\n",
    "\n",
    "def make_env():\n",
    "    return gym.make(\"CarRacing-v0\")\n",
    "\n",
    "num_envs = 8\n",
    "envs = SubprocVecEnv([make_env for _ in range(num_envs)])"
   ]
  },
  {
   "cell_type": "code",
   "execution_count": null,
   "metadata": {
    "collapsed": true
   },
   "outputs": [],
   "source": [
    "discount_factor  = 0.99\n",
    "save_interval    = 100\n",
    "t_max            = 5\n",
    "frame_stack_size = 4"
   ]
  },
  {
   "cell_type": "code",
   "execution_count": null,
   "metadata": {
    "collapsed": false,
    "scrolled": false
   },
   "outputs": [
    {
     "name": "stdout",
     "output_type": "stream",
     "text": [
      "-- Episode 2 --\n",
      "Learning rate: 0.0001\n",
      "Episode policy loss: -64.99564262060449\n",
      "Episode value loss: 141.3993214443326\n",
      "Episode entropy loss: 914.8210849761963\n",
      "Episode loss: -3.4441928304731846\n",
      "Average episode reward: -36.83904776283194\n",
      "\n"
     ]
    },
    {
     "data": {
      "image/png": "[encoded data removed]",
      "text/plain": [
       "<matplotlib.figure.Figure at 0x2266f905550>"
      ]
     },
     "metadata": {},
     "output_type": "display_data"
    },
    {
     "name": "stdout",
     "output_type": "stream",
     "text": [
      "Resetting envronments...\n",
      "Training...\n"
     ]
    }
   ],
   "source": [
    "input_shape = (*envs.observation_space.shape[0:2], 4)\n",
    "a2c_model = GaussianA2C(envs.action_space.shape[0], input_shape, tf.train.RMSPropOptimizer,\n",
    "                        value_scale=0.5, entropy_scale=0.01, model_checkpoint=None, model_name=\"CarRacing-v0\")\n",
    "\n",
    "average_episode_rewards = []\n",
    "episode = 0\n",
    "while True:\n",
    "    print(\"Resetting envronments...\")\n",
    "    episode += 1\n",
    "    initial_frames = envs.reset()\n",
    "    frame_stacks = [FrameStack(initial_frames[i], preprocess_fn=preprocess_frame) for i in range(num_envs)]\n",
    "    dones = [False] * num_envs\n",
    "    \n",
    "    # While there are running environments\n",
    "    print(\"Training...\")\n",
    "    learning_rate = lr_scheduler.get_value()\n",
    "    total_reward = 0\n",
    "    episode_loss = episode_policy_loss = episode_value_loss = episode_entropy_loss = 0\n",
    "    average_episode_reward = []\n",
    "    while sum(dones) < num_envs:\n",
    "        states_mb, actions_mb, returns_mb, values_mb = [], [], [], []\n",
    "        \n",
    "        # Simulate game for some number of steps\n",
    "        rewards_mb = []\n",
    "        for _ in range(t_max):\n",
    "            # Predict and value action given state\n",
    "            # π(a_t | s_t; θ)\n",
    "            states = [frame_stacks[i].get_state() if dones[i] == False else np.zeros(input_shape) for i in range(num_envs)]\n",
    "            actions_mean, actions_variance, values = a2c_model.predict(states)\n",
    "\n",
    "            # Sample action from a Gaussian distribution\n",
    "            actions = np.random.normal(loc=actions_mean, scale=np.sqrt(actions_variance))\n",
    "            envs.step_async(actions)\n",
    "            frames, rewards, dones, infos = envs.step_wait()\n",
    "            \n",
    "            # Store state, action and reward\n",
    "            states_mb.extend(states)\n",
    "            actions_mb.extend(actions)\n",
    "            rewards_mb.extend(rewards)\n",
    "            values_mb.extend(np.squeeze(values, axis=-1))\n",
    "            total_reward += np.sum(rewards)\n",
    "            \n",
    "            # Get new state\n",
    "            for i in range(num_envs):\n",
    "                frame_stacks[i].add_frame(frames[i])\n",
    "\n",
    "        # Calculate return (discounted rewards over a trajectory)\n",
    "        states = [frame_stacks[i].get_state() if dones[i] == False else np.zeros(input_shape) for i in range(num_envs)]\n",
    "        last_values = a2c_model.predict(states)[-1]\n",
    "        for i in range(num_envs):\n",
    "            if dones[i] == False:\n",
    "                returns_mb.extend(calculate_expected_return(rewards_mb[i::num_envs]+[last_values[i]], discount_factor)[:-1])\n",
    "            else:\n",
    "                returns_mb.extend(calculate_expected_return(rewards_mb[i::num_envs]+[0], discount_factor)[:-1])\n",
    "\n",
    "        eploss, pgloss, vloss, entloss = a2c_model.train(states_mb, actions_mb, np.squeeze(returns_mb, axis=-1), values_mb, learning_rate=learning_rate)\n",
    "        episode_loss         += eploss\n",
    "        episode_policy_loss  += pgloss\n",
    "        episode_value_loss   += vloss\n",
    "        episode_entropy_loss += entloss\n",
    "    average_episode_rewards.append(total_reward / num_envs)\n",
    "    \n",
    "    clear_output(wait=True)\n",
    "    print(\"-- Episode {} --\".format(episode))\n",
    "    print(\"Learning rate:\", learning_rate)\n",
    "    print(\"Episode policy loss:\", episode_policy_loss)\n",
    "    print(\"Episode value loss:\", episode_value_loss)\n",
    "    print(\"Episode entropy loss:\", episode_entropy_loss)\n",
    "    print(\"Episode loss:\", episode_loss)\n",
    "    print(\"Average episode reward:\", average_episode_rewards[-1])\n",
    "    print(\"\")\n",
    "    plt.plot(np.arange(0, len(average_episode_rewards)), average_episode_rewards)\n",
    "    plt.show()\n",
    "    \n",
    "    if episode % save_interval == 0:\n",
    "        a2c_model.save()\n",
    "\n",
    "print(\"Done!\")"
   ]
  },
  {
   "cell_type": "code",
   "execution_count": null,
   "metadata": {
    "collapsed": false
   },
   "outputs": [],
   "source": [
    "print(np.array(rewards_mb[::num_envs]).shape)"
   ]
  },
  {
   "cell_type": "code",
   "execution_count": null,
   "metadata": {
    "collapsed": false
   },
   "outputs": [],
   "source": [
    "import time\n",
    "env = DoomEnv(True)\n",
    "greedy = True\n",
    "for episode in range(10):\n",
    "    env.reset()\n",
    "    while not env.game.is_episode_finished():\n",
    "        # Predict action given state: π(a_t | s_t; θ)\n",
    "        action_prob = np.squeeze(a2c_model.predict(np.expand_dims(env.state, axis=0))[0])\n",
    "        if greedy:\n",
    "            action = np.argmax(action_prob)\n",
    "        else:\n",
    "            action = np.random.choice(np.arange(0, num_actions), p=action_prob) # Sample action stochastically\n",
    "        action_one_hot = [False] * num_actions\n",
    "        action_one_hot[action] = True\n",
    "\n",
    "        # Take the action\n",
    "        env.game.make_action(action_one_hot)\n",
    "        time.sleep(0.016)\n",
    "        \n",
    "        if not env.game.is_episode_finished():\n",
    "            # Get new state\n",
    "            env.frame_stack.append(preprocess_frame(env.game.get_state().screen_buffer))\n",
    "            env.state = np.stack(env.frame_stack, axis=2)"
   ]
  }
 ],
 "metadata": {
  "kernelspec": {
   "display_name": "Python 3",
   "language": "python",
   "name": "python3"
  },
  "language_info": {
   "codemirror_mode": {
    "name": "ipython",
    "version": 3
   },
   "file_extension": ".py",
   "mimetype": "text/x-python",
   "name": "python",
   "nbconvert_exporter": "python",
   "pygments_lexer": "ipython3",
   "version": "3.6.5"
  }
 },
 "nbformat": 4,
 "nbformat_minor": 2
}
